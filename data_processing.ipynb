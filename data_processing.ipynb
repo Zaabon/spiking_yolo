{
 "cells": [
  {
   "cell_type": "code",
   "execution_count": null,
   "metadata": {},
   "outputs": [],
   "source": [
    "from __future__ import print_function\n",
    "import torchvision\n",
    "import torchvision.transforms as transforms\n",
    "import os\n",
    "import time\n",
    "import sys\n",
    "\n",
    "sys.path.insert(0, './SpikingNN')\n",
    "sys.path.insert(0, './n_caltech101')\n",
    "\n",
    "from SpikingNN.spiking_model import*\n",
    "from n_caltech101.neuro_dataset import*\n",
    "import numpy as np\n",
    "\n",
    "import train as yolo\n",
    "\n",
    "import glob\n",
    "device = torch.device(\"cuda\" if torch.cuda.is_available() else \"cpu\")\n"
   ]
  },
  {
   "cell_type": "code",
   "execution_count": null,
   "metadata": {},
   "outputs": [],
   "source": [
    "def bounding_box(class_name, class_index, offset, dest):\n",
    "    w = 240\n",
    "    h = 176\n",
    "\n",
    "    for file in glob.glob(\"N-Caltech101/Caltech101_annotations/\" + class_name + \"/*\"):    \n",
    "        print(file)\n",
    "\n",
    "        # BB in: x,y,w,h (point in center)\n",
    "        # YOLO BB: [[batch_index, class, x, y, w, h]] normalized to 0-1\n",
    "\n",
    "        f = open(file, \"r\")\n",
    "        a = np.fromfile(f, dtype=np.int16)\n",
    "\n",
    "        xywh = torch.tensor([[0, class_index, a[2]/w, a[3]/h, (a[6] - a[2])/w, (a[7] - a[3])/h]])\n",
    "        print(xywh)\n",
    "\n",
    "        torch.save(xywh.to(device), dest + str(int(file[-8:-4]) + offset) + \".pt\")\n",
    "        \n",
    "dest = \"N-Caltech101/tensor_annotations/\"\n",
    "if not os.path.exists(dest):\n",
    "    os.makedirs(dest)\n",
    "\n",
    "class_name = \"airplanes\"  # Name of the folder for the class\n",
    "offset = 0 # Offset label of data so that it is stored continuously. \n",
    "class_index = 0\n",
    "bounding_box(class_name, class_index, offset, dest)\n",
    "\n",
    "class_name = \"Motorbikes\"\n",
    "offset = 800 \n",
    "class_index = 1\n",
    "bounding_box(class_name, class_index, offset, dest)"
   ]
  },
  {
   "cell_type": "code",
   "execution_count": null,
   "metadata": {
    "scrolled": true
   },
   "outputs": [],
   "source": [
    "def time_rate_encoding(class_name, offset, dest):\n",
    "    width = 240\n",
    "    height = 176\n",
    "    \n",
    "    time_step = int(300e3 / 20) # 15,000 micro seconds for 20 frames\n",
    "\n",
    "    for file in glob.glob(\"N-Caltech101/Caltech101/\" + class_name + \"/*\"):    \n",
    "        print(file)\n",
    "        events = ev.read_dataset(file)\n",
    "        sampling_stop = time_step\n",
    "\n",
    "        images = torch.zeros([0, 1, 2, height, width])\n",
    "        image = torch.zeros([1, 1, 2, height, width])\n",
    "        for i, e in enumerate(events.data):\n",
    "            if e[3] >= sampling_stop:  # Event frame finished\n",
    "                if sampling_stop >= 300e3:  # Data point finished\n",
    "                    break\n",
    "\n",
    "                images = torch.cat((images, image))\n",
    "                image = torch.zeros([1, 1, 2, height, width])\n",
    "                sampling_stop += time_step\n",
    "\n",
    "            image[0][0][int(e[2])][e[1]][e[0]] += 1\n",
    "\n",
    "        images = torch.cat((images, image))\n",
    "        torch.save(images.to(device), dest + str(int(file[-8:-4]) + offset) + \".pt\")\n",
    "        print(images.shape)\n",
    "        \n",
    "dest = \"N-Caltech101/tensor_data/\"\n",
    "if not os.path.exists(dest):\n",
    "    os.makedirs(dest)\n",
    "    \n",
    "class_name = \"airplanes\"\n",
    "offset = 0\n",
    "time_rate_encoding(class_name, offset, dest)\n",
    "\n",
    "class_name = \"Motorbikes\"\n",
    "offset = 800 \n",
    "time_rate_encoding(class_name, offset, dest)"
   ]
  }
 ],
 "metadata": {
  "kernelspec": {
   "display_name": "Python [conda env:.conda-spiking] *",
   "language": "python",
   "name": "conda-env-.conda-spiking-py"
  },
  "language_info": {
   "codemirror_mode": {
    "name": "ipython",
    "version": 3
   },
   "file_extension": ".py",
   "mimetype": "text/x-python",
   "name": "python",
   "nbconvert_exporter": "python",
   "pygments_lexer": "ipython3",
   "version": "3.7.9"
  }
 },
 "nbformat": 4,
 "nbformat_minor": 4
}
